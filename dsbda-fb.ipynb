{
  "metadata": {
    "kernelspec": {
      "name": "python",
      "display_name": "Python (Pyodide)",
      "language": "python"
    },
    "language_info": {
      "codemirror_mode": {
        "name": "python",
        "version": 3
      },
      "file_extension": ".py",
      "mimetype": "text/x-python",
      "name": "python",
      "nbconvert_exporter": "python",
      "pygments_lexer": "ipython3",
      "version": "3.8"
    }
  },
  "nbformat_minor": 5,
  "nbformat": 4,
  "cells": [
    {
      "id": "c460de89-a239-4aff-bf79-6642532f60a7",
      "cell_type": "code",
      "source": "import pandas as pd",
      "metadata": {
        "trusted": true
      },
      "outputs": [],
      "execution_count": 1
    },
    {
      "id": "3578d783-31a3-461f-ac7e-423a70ec96c5",
      "cell_type": "code",
      "source": "data = pd.read_csv('fb.csv')",
      "metadata": {
        "trusted": true
      },
      "outputs": [],
      "execution_count": 3
    },
    {
      "id": "0b533982-6d02-4c3f-9741-81c5e89b186d",
      "cell_type": "code",
      "source": "print(type(data))",
      "metadata": {
        "trusted": true
      },
      "outputs": [
        {
          "name": "stdout",
          "output_type": "stream",
          "text": "<class 'pandas.core.frame.DataFrame'>\n"
        }
      ],
      "execution_count": 4
    },
    {
      "id": "8ec2babb-71e8-479d-a7f2-fa070b3f8846",
      "cell_type": "code",
      "source": "data.shape",
      "metadata": {
        "trusted": true
      },
      "outputs": [
        {
          "execution_count": 5,
          "output_type": "execute_result",
          "data": {
            "text/plain": "(500, 19)"
          },
          "metadata": {}
        }
      ],
      "execution_count": 5
    },
    {
      "id": "4be268bb-f2f7-4e9d-b931-a9ad17672898",
      "cell_type": "code",
      "source": "data.head()",
      "metadata": {
        "trusted": true
      },
      "outputs": [
        {
          "execution_count": 6,
          "output_type": "execute_result",
          "data": {
            "text/plain": "   Page total likes    Type  Category  Post Month  Post Weekday  Post Hour  \\\n0            139441   Photo         2          12             4          3   \n1            139441  Status         2          12             3         10   \n2            139441   Photo         3          12             3          3   \n3            139441   Photo         2          12             2         10   \n4            139441   Photo         2          12             2          3   \n\n   Paid  Lifetime Post Total Reach  Lifetime Post Total Impressions  \\\n0   0.0                       2752                             5091   \n1   0.0                      10460                            19057   \n2   0.0                       2413                             4373   \n3   1.0                      50128                            87991   \n4   0.0                       7244                            13594   \n\n   Lifetime Engaged Users  Lifetime Post Consumers  \\\n0                     178                      109   \n1                    1457                     1361   \n2                     177                      113   \n3                    2211                      790   \n4                     671                      410   \n\n   Lifetime Post Consumptions  \\\n0                         159   \n1                        1674   \n2                         154   \n3                        1119   \n4                         580   \n\n   Lifetime Post Impressions by people who have liked your Page  \\\n0                                               3078              \n1                                              11710              \n2                                               2812              \n3                                              61027              \n4                                               6228              \n\n   Lifetime Post reach by people who like your Page  \\\n0                                              1640   \n1                                              6112   \n2                                              1503   \n3                                             32048   \n4                                              3200   \n\n   Lifetime People who have liked your Page and engaged with your post  \\\n0                                                119                     \n1                                               1108                     \n2                                                132                     \n3                                               1386                     \n4                                                396                     \n\n   comment    like  share  Total Interactions  \n0        4    79.0   17.0                 100  \n1        5   130.0   29.0                 164  \n2        0    66.0   14.0                  80  \n3       58  1572.0  147.0                1777  \n4       19   325.0   49.0                 393  ",
            "text/html": "<div>\n<style scoped>\n    .dataframe tbody tr th:only-of-type {\n        vertical-align: middle;\n    }\n\n    .dataframe tbody tr th {\n        vertical-align: top;\n    }\n\n    .dataframe thead th {\n        text-align: right;\n    }\n</style>\n<table border=\"1\" class=\"dataframe\">\n  <thead>\n    <tr style=\"text-align: right;\">\n      <th></th>\n      <th>Page total likes</th>\n      <th>Type</th>\n      <th>Category</th>\n      <th>Post Month</th>\n      <th>Post Weekday</th>\n      <th>Post Hour</th>\n      <th>Paid</th>\n      <th>Lifetime Post Total Reach</th>\n      <th>Lifetime Post Total Impressions</th>\n      <th>Lifetime Engaged Users</th>\n      <th>Lifetime Post Consumers</th>\n      <th>Lifetime Post Consumptions</th>\n      <th>Lifetime Post Impressions by people who have liked your Page</th>\n      <th>Lifetime Post reach by people who like your Page</th>\n      <th>Lifetime People who have liked your Page and engaged with your post</th>\n      <th>comment</th>\n      <th>like</th>\n      <th>share</th>\n      <th>Total Interactions</th>\n    </tr>\n  </thead>\n  <tbody>\n    <tr>\n      <th>0</th>\n      <td>139441</td>\n      <td>Photo</td>\n      <td>2</td>\n      <td>12</td>\n      <td>4</td>\n      <td>3</td>\n      <td>0.0</td>\n      <td>2752</td>\n      <td>5091</td>\n      <td>178</td>\n      <td>109</td>\n      <td>159</td>\n      <td>3078</td>\n      <td>1640</td>\n      <td>119</td>\n      <td>4</td>\n      <td>79.0</td>\n      <td>17.0</td>\n      <td>100</td>\n    </tr>\n    <tr>\n      <th>1</th>\n      <td>139441</td>\n      <td>Status</td>\n      <td>2</td>\n      <td>12</td>\n      <td>3</td>\n      <td>10</td>\n      <td>0.0</td>\n      <td>10460</td>\n      <td>19057</td>\n      <td>1457</td>\n      <td>1361</td>\n      <td>1674</td>\n      <td>11710</td>\n      <td>6112</td>\n      <td>1108</td>\n      <td>5</td>\n      <td>130.0</td>\n      <td>29.0</td>\n      <td>164</td>\n    </tr>\n    <tr>\n      <th>2</th>\n      <td>139441</td>\n      <td>Photo</td>\n      <td>3</td>\n      <td>12</td>\n      <td>3</td>\n      <td>3</td>\n      <td>0.0</td>\n      <td>2413</td>\n      <td>4373</td>\n      <td>177</td>\n      <td>113</td>\n      <td>154</td>\n      <td>2812</td>\n      <td>1503</td>\n      <td>132</td>\n      <td>0</td>\n      <td>66.0</td>\n      <td>14.0</td>\n      <td>80</td>\n    </tr>\n    <tr>\n      <th>3</th>\n      <td>139441</td>\n      <td>Photo</td>\n      <td>2</td>\n      <td>12</td>\n      <td>2</td>\n      <td>10</td>\n      <td>1.0</td>\n      <td>50128</td>\n      <td>87991</td>\n      <td>2211</td>\n      <td>790</td>\n      <td>1119</td>\n      <td>61027</td>\n      <td>32048</td>\n      <td>1386</td>\n      <td>58</td>\n      <td>1572.0</td>\n      <td>147.0</td>\n      <td>1777</td>\n    </tr>\n    <tr>\n      <th>4</th>\n      <td>139441</td>\n      <td>Photo</td>\n      <td>2</td>\n      <td>12</td>\n      <td>2</td>\n      <td>3</td>\n      <td>0.0</td>\n      <td>7244</td>\n      <td>13594</td>\n      <td>671</td>\n      <td>410</td>\n      <td>580</td>\n      <td>6228</td>\n      <td>3200</td>\n      <td>396</td>\n      <td>19</td>\n      <td>325.0</td>\n      <td>49.0</td>\n      <td>393</td>\n    </tr>\n  </tbody>\n</table>\n</div>"
          },
          "metadata": {}
        }
      ],
      "execution_count": 6
    },
    {
      "id": "c2d4ef8b-ae96-4b23-a0a5-22d237f94ae6",
      "cell_type": "code",
      "source": "data.iloc[2:10,:]",
      "metadata": {
        "trusted": true
      },
      "outputs": [
        {
          "execution_count": 8,
          "output_type": "execute_result",
          "data": {
            "text/plain": "   Page total likes    Type  Category  Post Month  Post Weekday  Post Hour  \\\n2            139441   Photo         3          12             3          3   \n3            139441   Photo         2          12             2         10   \n4            139441   Photo         2          12             2          3   \n5            139441  Status         2          12             1          9   \n6            139441   Photo         3          12             1          3   \n7            139441   Photo         3          12             7          9   \n8            139441  Status         2          12             7          3   \n9            139441   Photo         3          12             6         10   \n\n   Paid  Lifetime Post Total Reach  Lifetime Post Total Impressions  \\\n2   0.0                       2413                             4373   \n3   1.0                      50128                            87991   \n4   0.0                       7244                            13594   \n5   0.0                      10472                            20849   \n6   1.0                      11692                            19479   \n7   1.0                      13720                            24137   \n8   0.0                      11844                            22538   \n9   0.0                       4694                             8668   \n\n   Lifetime Engaged Users  Lifetime Post Consumers  \\\n2                     177                      113   \n3                    2211                      790   \n4                     671                      410   \n5                    1191                     1073   \n6                     481                      265   \n7                     537                      232   \n8                    1530                     1407   \n9                     280                      183   \n\n   Lifetime Post Consumptions  \\\n2                         154   \n3                        1119   \n4                         580   \n5                        1389   \n6                         364   \n7                         305   \n8                        1692   \n9                         250   \n\n   Lifetime Post Impressions by people who have liked your Page  \\\n2                                               2812              \n3                                              61027              \n4                                               6228              \n5                                              16034              \n6                                              15432              \n7                                              19728              \n8                                              15220              \n9                                               4309              \n\n   Lifetime Post reach by people who like your Page  \\\n2                                              1503   \n3                                             32048   \n4                                              3200   \n5                                              7852   \n6                                              9328   \n7                                             11056   \n8                                              7912   \n9                                              2324   \n\n   Lifetime People who have liked your Page and engaged with your post  \\\n2                                                132                     \n3                                               1386                     \n4                                                396                     \n5                                               1016                     \n6                                                379                     \n7                                                422                     \n8                                               1250                     \n9                                                199                     \n\n   comment    like  share  Total Interactions  \n2        0    66.0   14.0                  80  \n3       58  1572.0  147.0                1777  \n4       19   325.0   49.0                 393  \n5        1   152.0   33.0                 186  \n6        3   249.0   27.0                 279  \n7        0   325.0   14.0                 339  \n8        0   161.0   31.0                 192  \n9        3   113.0   26.0                 142  ",
            "text/html": "<div>\n<style scoped>\n    .dataframe tbody tr th:only-of-type {\n        vertical-align: middle;\n    }\n\n    .dataframe tbody tr th {\n        vertical-align: top;\n    }\n\n    .dataframe thead th {\n        text-align: right;\n    }\n</style>\n<table border=\"1\" class=\"dataframe\">\n  <thead>\n    <tr style=\"text-align: right;\">\n      <th></th>\n      <th>Page total likes</th>\n      <th>Type</th>\n      <th>Category</th>\n      <th>Post Month</th>\n      <th>Post Weekday</th>\n      <th>Post Hour</th>\n      <th>Paid</th>\n      <th>Lifetime Post Total Reach</th>\n      <th>Lifetime Post Total Impressions</th>\n      <th>Lifetime Engaged Users</th>\n      <th>Lifetime Post Consumers</th>\n      <th>Lifetime Post Consumptions</th>\n      <th>Lifetime Post Impressions by people who have liked your Page</th>\n      <th>Lifetime Post reach by people who like your Page</th>\n      <th>Lifetime People who have liked your Page and engaged with your post</th>\n      <th>comment</th>\n      <th>like</th>\n      <th>share</th>\n      <th>Total Interactions</th>\n    </tr>\n  </thead>\n  <tbody>\n    <tr>\n      <th>2</th>\n      <td>139441</td>\n      <td>Photo</td>\n      <td>3</td>\n      <td>12</td>\n      <td>3</td>\n      <td>3</td>\n      <td>0.0</td>\n      <td>2413</td>\n      <td>4373</td>\n      <td>177</td>\n      <td>113</td>\n      <td>154</td>\n      <td>2812</td>\n      <td>1503</td>\n      <td>132</td>\n      <td>0</td>\n      <td>66.0</td>\n      <td>14.0</td>\n      <td>80</td>\n    </tr>\n    <tr>\n      <th>3</th>\n      <td>139441</td>\n      <td>Photo</td>\n      <td>2</td>\n      <td>12</td>\n      <td>2</td>\n      <td>10</td>\n      <td>1.0</td>\n      <td>50128</td>\n      <td>87991</td>\n      <td>2211</td>\n      <td>790</td>\n      <td>1119</td>\n      <td>61027</td>\n      <td>32048</td>\n      <td>1386</td>\n      <td>58</td>\n      <td>1572.0</td>\n      <td>147.0</td>\n      <td>1777</td>\n    </tr>\n    <tr>\n      <th>4</th>\n      <td>139441</td>\n      <td>Photo</td>\n      <td>2</td>\n      <td>12</td>\n      <td>2</td>\n      <td>3</td>\n      <td>0.0</td>\n      <td>7244</td>\n      <td>13594</td>\n      <td>671</td>\n      <td>410</td>\n      <td>580</td>\n      <td>6228</td>\n      <td>3200</td>\n      <td>396</td>\n      <td>19</td>\n      <td>325.0</td>\n      <td>49.0</td>\n      <td>393</td>\n    </tr>\n    <tr>\n      <th>5</th>\n      <td>139441</td>\n      <td>Status</td>\n      <td>2</td>\n      <td>12</td>\n      <td>1</td>\n      <td>9</td>\n      <td>0.0</td>\n      <td>10472</td>\n      <td>20849</td>\n      <td>1191</td>\n      <td>1073</td>\n      <td>1389</td>\n      <td>16034</td>\n      <td>7852</td>\n      <td>1016</td>\n      <td>1</td>\n      <td>152.0</td>\n      <td>33.0</td>\n      <td>186</td>\n    </tr>\n    <tr>\n      <th>6</th>\n      <td>139441</td>\n      <td>Photo</td>\n      <td>3</td>\n      <td>12</td>\n      <td>1</td>\n      <td>3</td>\n      <td>1.0</td>\n      <td>11692</td>\n      <td>19479</td>\n      <td>481</td>\n      <td>265</td>\n      <td>364</td>\n      <td>15432</td>\n      <td>9328</td>\n      <td>379</td>\n      <td>3</td>\n      <td>249.0</td>\n      <td>27.0</td>\n      <td>279</td>\n    </tr>\n    <tr>\n      <th>7</th>\n      <td>139441</td>\n      <td>Photo</td>\n      <td>3</td>\n      <td>12</td>\n      <td>7</td>\n      <td>9</td>\n      <td>1.0</td>\n      <td>13720</td>\n      <td>24137</td>\n      <td>537</td>\n      <td>232</td>\n      <td>305</td>\n      <td>19728</td>\n      <td>11056</td>\n      <td>422</td>\n      <td>0</td>\n      <td>325.0</td>\n      <td>14.0</td>\n      <td>339</td>\n    </tr>\n    <tr>\n      <th>8</th>\n      <td>139441</td>\n      <td>Status</td>\n      <td>2</td>\n      <td>12</td>\n      <td>7</td>\n      <td>3</td>\n      <td>0.0</td>\n      <td>11844</td>\n      <td>22538</td>\n      <td>1530</td>\n      <td>1407</td>\n      <td>1692</td>\n      <td>15220</td>\n      <td>7912</td>\n      <td>1250</td>\n      <td>0</td>\n      <td>161.0</td>\n      <td>31.0</td>\n      <td>192</td>\n    </tr>\n    <tr>\n      <th>9</th>\n      <td>139441</td>\n      <td>Photo</td>\n      <td>3</td>\n      <td>12</td>\n      <td>6</td>\n      <td>10</td>\n      <td>0.0</td>\n      <td>4694</td>\n      <td>8668</td>\n      <td>280</td>\n      <td>183</td>\n      <td>250</td>\n      <td>4309</td>\n      <td>2324</td>\n      <td>199</td>\n      <td>3</td>\n      <td>113.0</td>\n      <td>26.0</td>\n      <td>142</td>\n    </tr>\n  </tbody>\n</table>\n</div>"
          },
          "metadata": {}
        }
      ],
      "execution_count": 8
    },
    {
      "id": "a32bd2f3-cb3e-4fbc-8972-248ba0879ee6",
      "cell_type": "code",
      "source": "data.iloc[2:10,1:5]",
      "metadata": {
        "trusted": true
      },
      "outputs": [
        {
          "execution_count": 9,
          "output_type": "execute_result",
          "data": {
            "text/plain": "     Type  Category  Post Month  Post Weekday\n2   Photo         3          12             3\n3   Photo         2          12             2\n4   Photo         2          12             2\n5  Status         2          12             1\n6   Photo         3          12             1\n7   Photo         3          12             7\n8  Status         2          12             7\n9   Photo         3          12             6",
            "text/html": "<div>\n<style scoped>\n    .dataframe tbody tr th:only-of-type {\n        vertical-align: middle;\n    }\n\n    .dataframe tbody tr th {\n        vertical-align: top;\n    }\n\n    .dataframe thead th {\n        text-align: right;\n    }\n</style>\n<table border=\"1\" class=\"dataframe\">\n  <thead>\n    <tr style=\"text-align: right;\">\n      <th></th>\n      <th>Type</th>\n      <th>Category</th>\n      <th>Post Month</th>\n      <th>Post Weekday</th>\n    </tr>\n  </thead>\n  <tbody>\n    <tr>\n      <th>2</th>\n      <td>Photo</td>\n      <td>3</td>\n      <td>12</td>\n      <td>3</td>\n    </tr>\n    <tr>\n      <th>3</th>\n      <td>Photo</td>\n      <td>2</td>\n      <td>12</td>\n      <td>2</td>\n    </tr>\n    <tr>\n      <th>4</th>\n      <td>Photo</td>\n      <td>2</td>\n      <td>12</td>\n      <td>2</td>\n    </tr>\n    <tr>\n      <th>5</th>\n      <td>Status</td>\n      <td>2</td>\n      <td>12</td>\n      <td>1</td>\n    </tr>\n    <tr>\n      <th>6</th>\n      <td>Photo</td>\n      <td>3</td>\n      <td>12</td>\n      <td>1</td>\n    </tr>\n    <tr>\n      <th>7</th>\n      <td>Photo</td>\n      <td>3</td>\n      <td>12</td>\n      <td>7</td>\n    </tr>\n    <tr>\n      <th>8</th>\n      <td>Status</td>\n      <td>2</td>\n      <td>12</td>\n      <td>7</td>\n    </tr>\n    <tr>\n      <th>9</th>\n      <td>Photo</td>\n      <td>3</td>\n      <td>12</td>\n      <td>6</td>\n    </tr>\n  </tbody>\n</table>\n</div>"
          },
          "metadata": {}
        }
      ],
      "execution_count": 9
    },
    {
      "id": "a69f1c5e-72d4-4cf4-b23a-86c55e364d8b",
      "cell_type": "code",
      "source": "x = data.iloc[2:10,1:5]",
      "metadata": {
        "trusted": true
      },
      "outputs": [],
      "execution_count": 10
    },
    {
      "id": "63de29a4-2cc1-449f-8cf0-550375f2e7bc",
      "cell_type": "code",
      "source": "x.shape",
      "metadata": {
        "trusted": true
      },
      "outputs": [
        {
          "execution_count": 13,
          "output_type": "execute_result",
          "data": {
            "text/plain": "(8, 4)"
          },
          "metadata": {}
        }
      ],
      "execution_count": 13
    },
    {
      "id": "7efc6253-366b-4c90-a562-b8b26e8ef2ab",
      "cell_type": "code",
      "source": "data.iloc[:10,:5]",
      "metadata": {
        "trusted": true
      },
      "outputs": [
        {
          "execution_count": 14,
          "output_type": "execute_result",
          "data": {
            "text/plain": "   Page total likes    Type  Category  Post Month  Post Weekday\n0            139441   Photo         2          12             4\n1            139441  Status         2          12             3\n2            139441   Photo         3          12             3\n3            139441   Photo         2          12             2\n4            139441   Photo         2          12             2\n5            139441  Status         2          12             1\n6            139441   Photo         3          12             1\n7            139441   Photo         3          12             7\n8            139441  Status         2          12             7\n9            139441   Photo         3          12             6",
            "text/html": "<div>\n<style scoped>\n    .dataframe tbody tr th:only-of-type {\n        vertical-align: middle;\n    }\n\n    .dataframe tbody tr th {\n        vertical-align: top;\n    }\n\n    .dataframe thead th {\n        text-align: right;\n    }\n</style>\n<table border=\"1\" class=\"dataframe\">\n  <thead>\n    <tr style=\"text-align: right;\">\n      <th></th>\n      <th>Page total likes</th>\n      <th>Type</th>\n      <th>Category</th>\n      <th>Post Month</th>\n      <th>Post Weekday</th>\n    </tr>\n  </thead>\n  <tbody>\n    <tr>\n      <th>0</th>\n      <td>139441</td>\n      <td>Photo</td>\n      <td>2</td>\n      <td>12</td>\n      <td>4</td>\n    </tr>\n    <tr>\n      <th>1</th>\n      <td>139441</td>\n      <td>Status</td>\n      <td>2</td>\n      <td>12</td>\n      <td>3</td>\n    </tr>\n    <tr>\n      <th>2</th>\n      <td>139441</td>\n      <td>Photo</td>\n      <td>3</td>\n      <td>12</td>\n      <td>3</td>\n    </tr>\n    <tr>\n      <th>3</th>\n      <td>139441</td>\n      <td>Photo</td>\n      <td>2</td>\n      <td>12</td>\n      <td>2</td>\n    </tr>\n    <tr>\n      <th>4</th>\n      <td>139441</td>\n      <td>Photo</td>\n      <td>2</td>\n      <td>12</td>\n      <td>2</td>\n    </tr>\n    <tr>\n      <th>5</th>\n      <td>139441</td>\n      <td>Status</td>\n      <td>2</td>\n      <td>12</td>\n      <td>1</td>\n    </tr>\n    <tr>\n      <th>6</th>\n      <td>139441</td>\n      <td>Photo</td>\n      <td>3</td>\n      <td>12</td>\n      <td>1</td>\n    </tr>\n    <tr>\n      <th>7</th>\n      <td>139441</td>\n      <td>Photo</td>\n      <td>3</td>\n      <td>12</td>\n      <td>7</td>\n    </tr>\n    <tr>\n      <th>8</th>\n      <td>139441</td>\n      <td>Status</td>\n      <td>2</td>\n      <td>12</td>\n      <td>7</td>\n    </tr>\n    <tr>\n      <th>9</th>\n      <td>139441</td>\n      <td>Photo</td>\n      <td>3</td>\n      <td>12</td>\n      <td>6</td>\n    </tr>\n  </tbody>\n</table>\n</div>"
          },
          "metadata": {}
        }
      ],
      "execution_count": 14
    },
    {
      "id": "f34fb642-b254-4a5f-afb8-ef990c57081c",
      "cell_type": "code",
      "source": "data.iloc[12:,10:]",
      "metadata": {
        "trusted": true
      },
      "outputs": [
        {
          "execution_count": 15,
          "output_type": "execute_result",
          "data": {
            "text/plain": "     Lifetime Post Consumers  Lifetime Post Consumptions  \\\n12                       115                         133   \n13                       134                         168   \n14                       337                         417   \n15                      1209                        1425   \n16                       123                         148   \n..                       ...                         ...   \n495                      708                         985   \n496                      508                         687   \n497                      572                         795   \n498                      574                         832   \n499                      524                         743   \n\n     Lifetime Post Impressions by people who have liked your Page  \\\n12                                                3779              \n13                                                3631              \n14                                               34415              \n15                                               17272              \n16                                                1868              \n..                                                 ...              \n495                                               4750              \n496                                               3961              \n497                                               4742              \n498                                               4534              \n499                                               3861              \n\n     Lifetime Post reach by people who like your Page  \\\n12                                               2072   \n13                                               1917   \n14                                              19312   \n15                                               8548   \n16                                               1050   \n..                                                ...   \n495                                              2876   \n496                                              2104   \n497                                              2388   \n498                                              2452   \n499                                              2200   \n\n     Lifetime People who have liked your Page and engaged with your post  \\\n12                                                 152                     \n13                                                 183                     \n14                                                 684                     \n15                                                1162                     \n16                                                 123                     \n..                                                 ...                     \n495                                                392                     \n496                                                301                     \n497                                                363                     \n498                                                370                     \n499                                                316                     \n\n     comment   like  share  Total Interactions  \n12         0   90.0   14.0                 104  \n13         5  137.0   10.0                 152  \n14         2  577.0   20.0                 599  \n15         4   86.0   18.0                 108  \n16         2   40.0   12.0                  54  \n..       ...    ...    ...                 ...  \n495        5   53.0   26.0                  84  \n496        0   53.0   22.0                  75  \n497        4   93.0   18.0                 115  \n498        7   91.0   38.0                 136  \n499        0   91.0   28.0                 119  \n\n[488 rows x 9 columns]",
            "text/html": "<div>\n<style scoped>\n    .dataframe tbody tr th:only-of-type {\n        vertical-align: middle;\n    }\n\n    .dataframe tbody tr th {\n        vertical-align: top;\n    }\n\n    .dataframe thead th {\n        text-align: right;\n    }\n</style>\n<table border=\"1\" class=\"dataframe\">\n  <thead>\n    <tr style=\"text-align: right;\">\n      <th></th>\n      <th>Lifetime Post Consumers</th>\n      <th>Lifetime Post Consumptions</th>\n      <th>Lifetime Post Impressions by people who have liked your Page</th>\n      <th>Lifetime Post reach by people who like your Page</th>\n      <th>Lifetime People who have liked your Page and engaged with your post</th>\n      <th>comment</th>\n      <th>like</th>\n      <th>share</th>\n      <th>Total Interactions</th>\n    </tr>\n  </thead>\n  <tbody>\n    <tr>\n      <th>12</th>\n      <td>115</td>\n      <td>133</td>\n      <td>3779</td>\n      <td>2072</td>\n      <td>152</td>\n      <td>0</td>\n      <td>90.0</td>\n      <td>14.0</td>\n      <td>104</td>\n    </tr>\n    <tr>\n      <th>13</th>\n      <td>134</td>\n      <td>168</td>\n      <td>3631</td>\n      <td>1917</td>\n      <td>183</td>\n      <td>5</td>\n      <td>137.0</td>\n      <td>10.0</td>\n      <td>152</td>\n    </tr>\n    <tr>\n      <th>14</th>\n      <td>337</td>\n      <td>417</td>\n      <td>34415</td>\n      <td>19312</td>\n      <td>684</td>\n      <td>2</td>\n      <td>577.0</td>\n      <td>20.0</td>\n      <td>599</td>\n    </tr>\n    <tr>\n      <th>15</th>\n      <td>1209</td>\n      <td>1425</td>\n      <td>17272</td>\n      <td>8548</td>\n      <td>1162</td>\n      <td>4</td>\n      <td>86.0</td>\n      <td>18.0</td>\n      <td>108</td>\n    </tr>\n    <tr>\n      <th>16</th>\n      <td>123</td>\n      <td>148</td>\n      <td>1868</td>\n      <td>1050</td>\n      <td>123</td>\n      <td>2</td>\n      <td>40.0</td>\n      <td>12.0</td>\n      <td>54</td>\n    </tr>\n    <tr>\n      <th>...</th>\n      <td>...</td>\n      <td>...</td>\n      <td>...</td>\n      <td>...</td>\n      <td>...</td>\n      <td>...</td>\n      <td>...</td>\n      <td>...</td>\n      <td>...</td>\n    </tr>\n    <tr>\n      <th>495</th>\n      <td>708</td>\n      <td>985</td>\n      <td>4750</td>\n      <td>2876</td>\n      <td>392</td>\n      <td>5</td>\n      <td>53.0</td>\n      <td>26.0</td>\n      <td>84</td>\n    </tr>\n    <tr>\n      <th>496</th>\n      <td>508</td>\n      <td>687</td>\n      <td>3961</td>\n      <td>2104</td>\n      <td>301</td>\n      <td>0</td>\n      <td>53.0</td>\n      <td>22.0</td>\n      <td>75</td>\n    </tr>\n    <tr>\n      <th>497</th>\n      <td>572</td>\n      <td>795</td>\n      <td>4742</td>\n      <td>2388</td>\n      <td>363</td>\n      <td>4</td>\n      <td>93.0</td>\n      <td>18.0</td>\n      <td>115</td>\n    </tr>\n    <tr>\n      <th>498</th>\n      <td>574</td>\n      <td>832</td>\n      <td>4534</td>\n      <td>2452</td>\n      <td>370</td>\n      <td>7</td>\n      <td>91.0</td>\n      <td>38.0</td>\n      <td>136</td>\n    </tr>\n    <tr>\n      <th>499</th>\n      <td>524</td>\n      <td>743</td>\n      <td>3861</td>\n      <td>2200</td>\n      <td>316</td>\n      <td>0</td>\n      <td>91.0</td>\n      <td>28.0</td>\n      <td>119</td>\n    </tr>\n  </tbody>\n</table>\n<p>488 rows × 9 columns</p>\n</div>"
          },
          "metadata": {}
        }
      ],
      "execution_count": 15
    },
    {
      "id": "9b3cf9a4-c165-4543-8581-325f45b64907",
      "cell_type": "code",
      "source": "df1 = data.iloc[:100]\ndf2 = data.iloc[100:]\nmerged_df = pd.concat([df1, df2], axis=0)",
      "metadata": {
        "trusted": true
      },
      "outputs": [],
      "execution_count": 16
    },
    {
      "id": "5bc6fc1c-2e04-43fc-a4b2-af2631cece13",
      "cell_type": "code",
      "source": "merged_df.shape",
      "metadata": {
        "trusted": true
      },
      "outputs": [
        {
          "execution_count": 18,
          "output_type": "execute_result",
          "data": {
            "text/plain": "(500, 19)"
          },
          "metadata": {}
        }
      ],
      "execution_count": 18
    },
    {
      "id": "d1d71146-4ec2-4eac-bb98-8073849b951f",
      "cell_type": "code",
      "source": "sorted_df = data.sort_values(by=\"Total Interactions\", ascending=False)",
      "metadata": {
        "trusted": true
      },
      "outputs": [],
      "execution_count": 20
    },
    {
      "id": "bdb2aae8-68e4-4b9f-944b-faf625c92a06",
      "cell_type": "raw",
      "source": "sorted_df",
      "metadata": {}
    },
    {
      "id": "496603b8-2f94-46a2-adaf-1a20176ec081",
      "cell_type": "code",
      "source": "sorted_df",
      "metadata": {
        "trusted": true
      },
      "outputs": [
        {
          "execution_count": 21,
          "output_type": "execute_result",
          "data": {
            "text/plain": "     Page total likes   Type  Category  Post Month  Post Weekday  Post Hour  \\\n244            130791  Photo         2           7             3          5   \n379            111620  Photo         3           4             1         14   \n168            135428  Photo         1           9             3         10   \n460             92507  Photo         3           2             1         13   \n349            117764  Photo         3           5             5         13   \n..                ...    ...       ...         ...           ...        ...   \n100            137020  Photo         1          10             4          9   \n417            104070  Photo         1           3             3         10   \n111            136736  Photo         1          10             6          8   \n441             98195  Photo         1           3             5          4   \n76             137893  Photo         1          11             3          2   \n\n     Paid  Lifetime Post Total Reach  Lifetime Post Total Impressions  \\\n244   1.0                     180480                           319133   \n379   1.0                     105632                           147918   \n168   0.0                      41984                            68290   \n460   0.0                      55520                           665792   \n349   0.0                      81856                           124753   \n..    ...                        ...                              ...   \n100   1.0                       1357                             2453   \n417   0.0                       1874                             2474   \n111   0.0                       1261                             2158   \n441   1.0                       1845                             2670   \n76    0.0                       1228                             2392   \n\n     Lifetime Engaged Users  Lifetime Post Consumers  \\\n244                    8072                     4010   \n379                    3984                     2254   \n168                    3370                     2420   \n460                    4544                     3586   \n349                    3000                     1637   \n..                      ...                      ...   \n100                      37                       37   \n417                      25                       25   \n111                      37                       37   \n441                       9                        9   \n76                       17                       17   \n\n     Lifetime Post Consumptions  \\\n244                        6242   \n379                        3391   \n168                        4074   \n460                        6624   \n349                        2718   \n..                          ...   \n100                          55   \n417                          31   \n111                          49   \n441                           9   \n76                           19   \n\n     Lifetime Post Impressions by people who have liked your Page  \\\n244                                             108752              \n379                                              48575              \n168                                              34802              \n460                                             648611              \n349                                              52477              \n..                                                 ...              \n100                                               2154              \n417                                               1483              \n111                                               1911              \n441                                               1614              \n76                                                2392              \n\n     Lifetime Post reach by people who like your Page  \\\n244                                             51456   \n379                                             27328   \n168                                             20928   \n460                                             47488   \n349                                             27392   \n..                                                ...   \n100                                              1120   \n417                                              1062   \n111                                              1077   \n441                                              1008   \n76                                               1228   \n\n     Lifetime People who have liked your Page and engaged with your post  \\\n244                                               3316                     \n379                                               1936                     \n168                                               2126                     \n460                                               3430                     \n349                                               1756                     \n..                                                 ...                     \n100                                                 32                     \n417                                                 15                     \n111                                                 33                     \n441                                                  9                     \n76                                                  17                     \n\n     comment    like  share  Total Interactions  \n244      372  5172.0  790.0                6334  \n379       51  1998.0  128.0                2177  \n168      144  1622.0  208.0                1974  \n460      146  1546.0  181.0                1873  \n349       45  1639.0  122.0                1806  \n..       ...     ...    ...                 ...  \n100        0     0.0    0.0                   0  \n417        0     0.0    0.0                   0  \n111        0     NaN    NaN                   0  \n441        0     0.0    0.0                   0  \n76         0     0.0    0.0                   0  \n\n[500 rows x 19 columns]",
            "text/html": "<div>\n<style scoped>\n    .dataframe tbody tr th:only-of-type {\n        vertical-align: middle;\n    }\n\n    .dataframe tbody tr th {\n        vertical-align: top;\n    }\n\n    .dataframe thead th {\n        text-align: right;\n    }\n</style>\n<table border=\"1\" class=\"dataframe\">\n  <thead>\n    <tr style=\"text-align: right;\">\n      <th></th>\n      <th>Page total likes</th>\n      <th>Type</th>\n      <th>Category</th>\n      <th>Post Month</th>\n      <th>Post Weekday</th>\n      <th>Post Hour</th>\n      <th>Paid</th>\n      <th>Lifetime Post Total Reach</th>\n      <th>Lifetime Post Total Impressions</th>\n      <th>Lifetime Engaged Users</th>\n      <th>Lifetime Post Consumers</th>\n      <th>Lifetime Post Consumptions</th>\n      <th>Lifetime Post Impressions by people who have liked your Page</th>\n      <th>Lifetime Post reach by people who like your Page</th>\n      <th>Lifetime People who have liked your Page and engaged with your post</th>\n      <th>comment</th>\n      <th>like</th>\n      <th>share</th>\n      <th>Total Interactions</th>\n    </tr>\n  </thead>\n  <tbody>\n    <tr>\n      <th>244</th>\n      <td>130791</td>\n      <td>Photo</td>\n      <td>2</td>\n      <td>7</td>\n      <td>3</td>\n      <td>5</td>\n      <td>1.0</td>\n      <td>180480</td>\n      <td>319133</td>\n      <td>8072</td>\n      <td>4010</td>\n      <td>6242</td>\n      <td>108752</td>\n      <td>51456</td>\n      <td>3316</td>\n      <td>372</td>\n      <td>5172.0</td>\n      <td>790.0</td>\n      <td>6334</td>\n    </tr>\n    <tr>\n      <th>379</th>\n      <td>111620</td>\n      <td>Photo</td>\n      <td>3</td>\n      <td>4</td>\n      <td>1</td>\n      <td>14</td>\n      <td>1.0</td>\n      <td>105632</td>\n      <td>147918</td>\n      <td>3984</td>\n      <td>2254</td>\n      <td>3391</td>\n      <td>48575</td>\n      <td>27328</td>\n      <td>1936</td>\n      <td>51</td>\n      <td>1998.0</td>\n      <td>128.0</td>\n      <td>2177</td>\n    </tr>\n    <tr>\n      <th>168</th>\n      <td>135428</td>\n      <td>Photo</td>\n      <td>1</td>\n      <td>9</td>\n      <td>3</td>\n      <td>10</td>\n      <td>0.0</td>\n      <td>41984</td>\n      <td>68290</td>\n      <td>3370</td>\n      <td>2420</td>\n      <td>4074</td>\n      <td>34802</td>\n      <td>20928</td>\n      <td>2126</td>\n      <td>144</td>\n      <td>1622.0</td>\n      <td>208.0</td>\n      <td>1974</td>\n    </tr>\n    <tr>\n      <th>460</th>\n      <td>92507</td>\n      <td>Photo</td>\n      <td>3</td>\n      <td>2</td>\n      <td>1</td>\n      <td>13</td>\n      <td>0.0</td>\n      <td>55520</td>\n      <td>665792</td>\n      <td>4544</td>\n      <td>3586</td>\n      <td>6624</td>\n      <td>648611</td>\n      <td>47488</td>\n      <td>3430</td>\n      <td>146</td>\n      <td>1546.0</td>\n      <td>181.0</td>\n      <td>1873</td>\n    </tr>\n    <tr>\n      <th>349</th>\n      <td>117764</td>\n      <td>Photo</td>\n      <td>3</td>\n      <td>5</td>\n      <td>5</td>\n      <td>13</td>\n      <td>0.0</td>\n      <td>81856</td>\n      <td>124753</td>\n      <td>3000</td>\n      <td>1637</td>\n      <td>2718</td>\n      <td>52477</td>\n      <td>27392</td>\n      <td>1756</td>\n      <td>45</td>\n      <td>1639.0</td>\n      <td>122.0</td>\n      <td>1806</td>\n    </tr>\n    <tr>\n      <th>...</th>\n      <td>...</td>\n      <td>...</td>\n      <td>...</td>\n      <td>...</td>\n      <td>...</td>\n      <td>...</td>\n      <td>...</td>\n      <td>...</td>\n      <td>...</td>\n      <td>...</td>\n      <td>...</td>\n      <td>...</td>\n      <td>...</td>\n      <td>...</td>\n      <td>...</td>\n      <td>...</td>\n      <td>...</td>\n      <td>...</td>\n      <td>...</td>\n    </tr>\n    <tr>\n      <th>100</th>\n      <td>137020</td>\n      <td>Photo</td>\n      <td>1</td>\n      <td>10</td>\n      <td>4</td>\n      <td>9</td>\n      <td>1.0</td>\n      <td>1357</td>\n      <td>2453</td>\n      <td>37</td>\n      <td>37</td>\n      <td>55</td>\n      <td>2154</td>\n      <td>1120</td>\n      <td>32</td>\n      <td>0</td>\n      <td>0.0</td>\n      <td>0.0</td>\n      <td>0</td>\n    </tr>\n    <tr>\n      <th>417</th>\n      <td>104070</td>\n      <td>Photo</td>\n      <td>1</td>\n      <td>3</td>\n      <td>3</td>\n      <td>10</td>\n      <td>0.0</td>\n      <td>1874</td>\n      <td>2474</td>\n      <td>25</td>\n      <td>25</td>\n      <td>31</td>\n      <td>1483</td>\n      <td>1062</td>\n      <td>15</td>\n      <td>0</td>\n      <td>0.0</td>\n      <td>0.0</td>\n      <td>0</td>\n    </tr>\n    <tr>\n      <th>111</th>\n      <td>136736</td>\n      <td>Photo</td>\n      <td>1</td>\n      <td>10</td>\n      <td>6</td>\n      <td>8</td>\n      <td>0.0</td>\n      <td>1261</td>\n      <td>2158</td>\n      <td>37</td>\n      <td>37</td>\n      <td>49</td>\n      <td>1911</td>\n      <td>1077</td>\n      <td>33</td>\n      <td>0</td>\n      <td>NaN</td>\n      <td>NaN</td>\n      <td>0</td>\n    </tr>\n    <tr>\n      <th>441</th>\n      <td>98195</td>\n      <td>Photo</td>\n      <td>1</td>\n      <td>3</td>\n      <td>5</td>\n      <td>4</td>\n      <td>1.0</td>\n      <td>1845</td>\n      <td>2670</td>\n      <td>9</td>\n      <td>9</td>\n      <td>9</td>\n      <td>1614</td>\n      <td>1008</td>\n      <td>9</td>\n      <td>0</td>\n      <td>0.0</td>\n      <td>0.0</td>\n      <td>0</td>\n    </tr>\n    <tr>\n      <th>76</th>\n      <td>137893</td>\n      <td>Photo</td>\n      <td>1</td>\n      <td>11</td>\n      <td>3</td>\n      <td>2</td>\n      <td>0.0</td>\n      <td>1228</td>\n      <td>2392</td>\n      <td>17</td>\n      <td>17</td>\n      <td>19</td>\n      <td>2392</td>\n      <td>1228</td>\n      <td>17</td>\n      <td>0</td>\n      <td>0.0</td>\n      <td>0.0</td>\n      <td>0</td>\n    </tr>\n  </tbody>\n</table>\n<p>500 rows × 19 columns</p>\n</div>"
          },
          "metadata": {}
        }
      ],
      "execution_count": 21
    },
    {
      "id": "1ed05dfd-7b7a-4998-84a2-7aefd0442f91",
      "cell_type": "code",
      "source": "# Transpose only the first 3 rows for demo\ntransposed = data.head(3).transpose()\nprint(transposed)\n",
      "metadata": {
        "trusted": true
      },
      "outputs": [
        {
          "name": "stdout",
          "output_type": "stream",
          "text": "                                                         0       1       2\nPage total likes                                    139441  139441  139441\nType                                                 Photo  Status   Photo\nCategory                                                 2       2       3\nPost Month                                              12      12      12\nPost Weekday                                             4       3       3\nPost Hour                                                3      10       3\nPaid                                                   0.0     0.0     0.0\nLifetime Post Total Reach                             2752   10460    2413\nLifetime Post Total Impressions                       5091   19057    4373\nLifetime Engaged Users                                 178    1457     177\nLifetime Post Consumers                                109    1361     113\nLifetime Post Consumptions                             159    1674     154\nLifetime Post Impressions by people who have li...    3078   11710    2812\nLifetime Post reach by people who like your Page      1640    6112    1503\nLifetime People who have liked your Page and en...     119    1108     132\ncomment                                                  4       5       0\nlike                                                  79.0   130.0    66.0\nshare                                                 17.0    29.0    14.0\nTotal Interactions                                     100     164      80\n"
        }
      ],
      "execution_count": 23
    },
    {
      "id": "cdb080d2-5b73-454e-8fd1-da26225b49bc",
      "cell_type": "code",
      "source": "print(\"Shape of dataset:\", data.shape)",
      "metadata": {
        "trusted": true
      },
      "outputs": [
        {
          "name": "stdout",
          "output_type": "stream",
          "text": "Shape of dataset: (500, 19)\n"
        }
      ],
      "execution_count": 25
    },
    {
      "id": "bfb28f4d-f1e1-4e30-b7a7-1a498c6850a2",
      "cell_type": "code",
      "source": "# Reshape example: Average interactions per post type\nreshaped = data.pivot_table(values=\"Total Interactions\", index=\"Type\", aggfunc=\"mean\")\nprint(reshaped)",
      "metadata": {
        "trusted": true
      },
      "outputs": [
        {
          "name": "stdout",
          "output_type": "stream",
          "text": "        Total Interactions\nType                      \nLink             89.045455\nPhoto           216.579812\nStatus          217.044444\nVideo           295.857143\n"
        }
      ],
      "execution_count": 26
    },
    {
      "id": "3bed4b28-ddad-4194-8ccc-71cb3555bfed",
      "cell_type": "code",
      "source": "",
      "metadata": {
        "trusted": true
      },
      "outputs": [],
      "execution_count": null
    }
  ]
}